{
 "cells": [
  {
   "cell_type": "code",
   "execution_count": 1,
   "id": "a3ea1f35-84ad-423a-a701-0d1574810bd0",
   "metadata": {},
   "outputs": [],
   "source": [
    "from tensorflow import keras\n",
    "from tensorflow.keras import regularizers\n",
    "from tensorflow.keras import layers\n",
    "from tensorflow.keras import models\n",
    "from tensorflow.keras import optimizers\n",
    "import numpy as np\n",
    "import math\n",
    "import matplotlib.pyplot as plt"
   ]
  },
  {
   "cell_type": "code",
   "execution_count": 2,
   "id": "a4d417fa-2a04-47b9-9bcd-c492d2620495",
   "metadata": {},
   "outputs": [],
   "source": [
    "def unpickle(file):\n",
    "    import pickle\n",
    "    with open(file, 'rb') as fo:\n",
    "        dict = pickle.load(fo, encoding='bytes')\n",
    "    return dict"
   ]
  },
  {
   "cell_type": "code",
   "execution_count": 8,
   "id": "fe03e31a-671d-4106-a410-c36fa82335e0",
   "metadata": {},
   "outputs": [
    {
     "name": "stdout",
     "output_type": "stream",
     "text": [
      "dict_keys([b'batch_label', b'labels', b'data', b'filenames'])\n"
     ]
    }
   ],
   "source": [
    "a = unpickle('CIFAR_Data/cifar-10-batches-py/data_batch_1')\n",
    "print(a.keys()) # we only need labels and data"
   ]
  },
  {
   "cell_type": "code",
   "execution_count": 11,
   "id": "6c04ac7b-bb88-4492-bcf3-f2303bcb9dc8",
   "metadata": {},
   "outputs": [
    {
     "name": "stdout",
     "output_type": "stream",
     "text": [
      "(10000,)\n",
      "(10000, 3072)\n"
     ]
    }
   ],
   "source": [
    "print(np.array(a[b'labels']).shape)\n",
    "print(a[b'data'].shape) # every photo's shape is [32,32,3]"
   ]
  },
  {
   "cell_type": "code",
   "execution_count": 17,
   "id": "263e976f-bf9a-42c3-85d7-3989447bbcde",
   "metadata": {},
   "outputs": [],
   "source": [
    "# data preprocessing\n",
    "file_name = 'CIFAR_Data/cifar-10-batches-py/'\n",
    "x_train = np.zeros((50000,32,32,3))\n",
    "y_train = np.zeros(50000)\n",
    "x_test = np.zeros((10000,32,32,3))\n",
    "y_test = np.zeros(10000)\n",
    "for i in range(5):\n",
    "    batch_dict = unpickle(file_name+'data_batch_'+str(i+1))\n",
    "    batch_data = np.array(batch_dict[b'data'],dtype = np.float32).reshape(10000,32,32,3)\n",
    "    batch_label = np.array(batch_dict[b'labels'])\n",
    "    \n",
    "    x_train[i*10000:(i+1)*10000] = batch_data\n",
    "    y_train[i*10000:(i+1)*10000] = batch_label\n",
    "\n",
    "test_dict = unpickle(file_name+'test_batch')\n",
    "x_test = np.array(test_dict[b'data'],dtype = np.float32).reshape(10000,32,32,3)\n",
    "y_test = np.array(test_dict[b'labels'])\n",
    "\n",
    "y_train = keras.utils.to_categorical(y_train, 10)\n",
    "y_test = keras.utils.to_categorical(y_test, 10)"
   ]
  },
  {
   "cell_type": "code",
   "execution_count": 18,
   "id": "37d3c1eb-ca06-417c-a5fa-231820c3bde3",
   "metadata": {},
   "outputs": [
    {
     "name": "stdout",
     "output_type": "stream",
     "text": [
      "(45000, 32, 32, 3) (45000, 10)\n",
      "(5000, 32, 32, 3) (5000, 10)\n"
     ]
    }
   ],
   "source": [
    "# split trainind data to training and validation\n",
    "num_val = 5000\n",
    "indice = np.arange(x_train.shape[0])\n",
    "np.random.shuffle(indice)\n",
    "x_train = x_train[indice]/255\n",
    "y_train = y_train[indice]\n",
    "partial_train_x = x_train[:-num_val]\n",
    "x_val = x_train[-num_val:]\n",
    "partial_train_y = y_train[:-num_val]\n",
    "y_val = y_train[-num_val:]\n",
    "print(partial_train_x.shape,partial_train_y.shape)\n",
    "print(x_val.shape,y_val.shape)"
   ]
  },
  {
   "cell_type": "code",
   "execution_count": 22,
   "id": "7519097d-8e40-4bca-8349-62ae76209524",
   "metadata": {},
   "outputs": [],
   "source": [
    "def build_model():\n",
    "    model = models.Sequential()\n",
    "    model.add(layers.Conv2D(32, (3, 3), activation='relu',input_shape=(32, 32, 3)))\n",
    "    model.add(layers.MaxPooling2D((2, 2)))\n",
    "    model.add(layers.BatchNormalization())\n",
    "    \n",
    "    model.add(layers.Conv2D(64, (3, 3), activation='relu'))\n",
    "    model.add(layers.MaxPooling2D((2, 2)))\n",
    "    model.add(layers.BatchNormalization())\n",
    "    \n",
    "    model.add(layers.Conv2D(128, (3, 3), activation='relu'))\n",
    "    model.add(layers.MaxPooling2D((2, 2)))\n",
    "    model.add(layers.BatchNormalization())\n",
    "    \n",
    "    model.add(layers.Flatten())\n",
    "    model.add(layers.Dropout(0.5))\n",
    "    model.add(layers.Dense(256))\n",
    "    model.add(layers.Dense(10,activation='softmax'))\n",
    "\n",
    "    model.compile(loss='categorical_crossentropy',\n",
    "           optimizer=optimizers.RMSprop(learning_rate=1e-4),\n",
    "           metrics=['acc'])\n",
    "    return model"
   ]
  },
  {
   "cell_type": "code",
   "execution_count": 23,
   "id": "fe73b506-b6b1-4baf-b39a-28febf9da53b",
   "metadata": {},
   "outputs": [
    {
     "name": "stdout",
     "output_type": "stream",
     "text": [
      "Model: \"sequential_1\"\n",
      "_________________________________________________________________\n",
      "Layer (type)                 Output Shape              Param #   \n",
      "=================================================================\n",
      "conv2d_2 (Conv2D)            (None, 30, 30, 32)        896       \n",
      "_________________________________________________________________\n",
      "max_pooling2d_2 (MaxPooling2 (None, 15, 15, 32)        0         \n",
      "_________________________________________________________________\n",
      "batch_normalization (BatchNo (None, 15, 15, 32)        128       \n",
      "_________________________________________________________________\n",
      "conv2d_3 (Conv2D)            (None, 13, 13, 64)        18496     \n",
      "_________________________________________________________________\n",
      "max_pooling2d_3 (MaxPooling2 (None, 6, 6, 64)          0         \n",
      "_________________________________________________________________\n",
      "batch_normalization_1 (Batch (None, 6, 6, 64)          256       \n",
      "_________________________________________________________________\n",
      "conv2d_4 (Conv2D)            (None, 4, 4, 128)         73856     \n",
      "_________________________________________________________________\n",
      "max_pooling2d_4 (MaxPooling2 (None, 2, 2, 128)         0         \n",
      "_________________________________________________________________\n",
      "batch_normalization_2 (Batch (None, 2, 2, 128)         512       \n",
      "_________________________________________________________________\n",
      "flatten_1 (Flatten)          (None, 512)               0         \n",
      "_________________________________________________________________\n",
      "dropout_1 (Dropout)          (None, 512)               0         \n",
      "_________________________________________________________________\n",
      "dense_2 (Dense)              (None, 256)               131328    \n",
      "_________________________________________________________________\n",
      "dense_3 (Dense)              (None, 10)                2570      \n",
      "=================================================================\n",
      "Total params: 228,042\n",
      "Trainable params: 227,594\n",
      "Non-trainable params: 448\n",
      "_________________________________________________________________\n"
     ]
    }
   ],
   "source": [
    "model = build_model()\n",
    "model.summary()"
   ]
  },
  {
   "cell_type": "code",
   "execution_count": null,
   "id": "8bfda9f5-7088-4719-b194-7f31469de1be",
   "metadata": {},
   "outputs": [
    {
     "name": "stdout",
     "output_type": "stream",
     "text": [
      "Epoch 1/80\n",
      " 995/1407 [====================>.........] - ETA: 15s - loss: 2.2326 - acc: 0.3092"
     ]
    }
   ],
   "source": [
    "# start training\n",
    "history = model.fit(\n",
    "      partial_train_x,partial_train_y,\n",
    "      epochs=80,\n",
    "      batch_size=32,\n",
    "      validation_data=(x_val,y_val),\n",
    "      #verbose = 0\n",
    "      )"
   ]
  },
  {
   "cell_type": "code",
   "execution_count": null,
   "id": "83824c36-f5fb-421e-b483-255eb4b9a138",
   "metadata": {},
   "outputs": [],
   "source": []
  }
 ],
 "metadata": {
  "kernelspec": {
   "display_name": "Python 3 (ipykernel)",
   "language": "python",
   "name": "python3"
  },
  "language_info": {
   "codemirror_mode": {
    "name": "ipython",
    "version": 3
   },
   "file_extension": ".py",
   "mimetype": "text/x-python",
   "name": "python",
   "nbconvert_exporter": "python",
   "pygments_lexer": "ipython3",
   "version": "3.9.6"
  }
 },
 "nbformat": 4,
 "nbformat_minor": 5
}
